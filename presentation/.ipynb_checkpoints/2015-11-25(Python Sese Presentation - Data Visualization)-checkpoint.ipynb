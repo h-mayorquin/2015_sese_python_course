{
 "cells": [
  {
   "cell_type": "markdown",
   "metadata": {
    "slideshow": {
     "slide_type": "slide"
    }
   },
   "source": [
    "# Parameter Exploration for an In-House Library\n",
    "\n",
    "<img src=\"../results/sese.png\" width=250 height=250>\n",
    "\n",
    "### Presenter: Ramón Heberto Martínez\n",
    "\n",
    "<img src=\"../results/KTH_black.png\" width=100 height=100>\n",
    "\n",
    "### Course Responsible: Olav Vahtras\n",
    "\n",
    "#### Python Course SESE - 27 November of 2015\n"
   ]
  },
  {
   "cell_type": "markdown",
   "metadata": {
    "slideshow": {
     "slide_type": "slide"
    }
   },
   "source": [
    "# The Problem\n",
    "## Nexa library.\n",
    "* In house library for spatio-temporal feature extraction from time signals.\n",
    "* Calulation and Memory intensive.\n",
    "* Used for pre-processing data."
   ]
  },
  {
   "cell_type": "markdown",
   "metadata": {
    "slideshow": {
     "slide_type": "slide"
    }
   },
   "source": [
    "# The Problem\n",
    "## The Nexa Library has a Complex Processing Pipeline\n",
    "* Construction of a matrix with all the data and delayed versions (SLM)\n",
    "* Construction of a correlation matrix of the data matrix above (STDM)\n",
    "* Embedding of each of the signals above and its delays in an euclidian space. \n",
    "* Clustering of each of those signals.\n",
    "* For each of the cluster above cluster the data within them.\n",
    "\n",
    "Complexity madness!"
   ]
  },
  {
   "cell_type": "markdown",
   "metadata": {
    "slideshow": {
     "slide_type": "slide"
    }
   },
   "source": [
    "# The Problem\n",
    "## Ilustration with a simple use-case\n",
    "* The signal\n",
    "* Distance between them.\n",
    "* Width of Gaussian Bumpbs.\n",
    "* Base levels.\n",
    "\n",
    "<img src=\"../results/test.png\" width=400 height=400>\n"
   ]
  },
  {
   "cell_type": "markdown",
   "metadata": {
    "slideshow": {
     "slide_type": "slide"
    }
   },
   "source": [
    "# Parameters\n",
    "* SLM: The Matrix with the data and its lagged versions.\n",
    "* STDM: The correlation matrix that quantifies the distance between every one of the signals and the delayed versions of them.\n",
    "* Clustering Map: Shows to which clusters are assigned each of the signals."
   ]
  },
  {
   "cell_type": "markdown",
   "metadata": {
    "slideshow": {
     "slide_type": "slide"
    }
   },
   "source": [
    "# Python Tools Involved\n",
    "### Github\n",
    "* Using github before but in a monolitic way. No use of branches.\n",
    "* Using branches to separate feature development from the main body of work. This allows to experiment freely without the constant fear of breaking something lurking in the background."
   ]
  },
  {
   "cell_type": "markdown",
   "metadata": {
    "slideshow": {
     "slide_type": "slide"
    }
   },
   "source": [
    "# Python Tools Involved\n",
    "### Matplotlib\n",
    "* Using matplotlib in a class oriented way we can separate the figure from the axis. \n",
    "* By passing axis to a function we can separate the figure creationg in all its glory from its position in the figure.\n",
    "* We avoid this duplicating code for every possible (positionally) use case of our data plots."
   ]
  },
  {
   "cell_type": "markdown",
   "metadata": {
    "slideshow": {
     "slide_type": "slide"
    }
   },
   "source": [
    "# Python Tools Involved\n",
    "### Iptyhon Widgets\n",
    "* In calculation-memory intensive computations is not feasible to run many times a routine and extract the results after. Many things can go wrong.\n",
    "* Decouple results generation from results exploration.\n",
    "* GUI usually have a step learning curve and require some time investment.\n",
    "* Luckily the **Ipython.widget** module combined with the Ipython notebook can cover most scientific use cases and is readily available without too much configuration, boilerplate or depedency requirements."
   ]
  },
  {
   "cell_type": "markdown",
   "metadata": {
    "slideshow": {
     "slide_type": "slide"
    }
   },
   "source": [
    "# Discussion\n",
    "* We have built a routine to study systematically the outcome of input variation in our results. \n",
    "* We did this by leveragin in the facilities provided by scientific Python.\n",
    "* We have also created an intermediate step where we store the results in HDF format. We achieve this by using **h5py** that allow us to merge the storage with our framework seamlessly. "
   ]
  },
  {
   "cell_type": "code",
   "execution_count": null,
   "metadata": {
    "collapsed": true
   },
   "outputs": [],
   "source": []
  }
 ],
 "metadata": {
  "celltoolbar": "Slideshow",
  "kernelspec": {
   "display_name": "Python 3",
   "language": "python",
   "name": "python3"
  },
  "language_info": {
   "codemirror_mode": {
    "name": "ipython",
    "version": 3
   },
   "file_extension": ".py",
   "mimetype": "text/x-python",
   "name": "python",
   "nbconvert_exporter": "python",
   "pygments_lexer": "ipython3",
   "version": "3.5.0"
  }
 },
 "nbformat": 4,
 "nbformat_minor": 0
}
