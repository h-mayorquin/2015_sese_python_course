{
 "cells": [
  {
   "cell_type": "markdown",
   "metadata": {
    "slideshow": {
     "slide_type": "slide"
    }
   },
   "source": [
    "# The Effect of Sampling Rate on Observed Statistics in a Correlated Random Walk\n",
    "\n",
    "### Heberto Mayorquin, Presentation for the Journal Club.\n",
    "### 24 / September / 2015"
   ]
  },
  {
   "cell_type": "markdown",
   "metadata": {
    "slideshow": {
     "slide_type": "slide"
    }
   },
   "source": [
    "# Motivation\n",
    "\n",
    "### Mine\n",
    "* How the sampling rate affects the statistics of the signals (micro vs macro!)\n",
    "\n",
    "### Tracking in Biology\n",
    "* Homing beahviour of Rockfish.\n",
    "* Oscilllations in dive depths of sharks.\n",
    "* Movements in foraging areas of elks.\n",
    "* Motion of bacteria."
   ]
  },
  {
   "cell_type": "markdown",
   "metadata": {
    "collapsed": true,
    "slideshow": {
     "slide_type": "slide"
    }
   },
   "source": [
    "# The Model\n",
    "\n",
    "* Study the effect of the samplig interval $\\tau$.\n",
    "* Individual moves with **constant** speed $c_{const}$ in a 2D Correlated Random Walk.\n",
    "* Reorientations occur with a **poisson** process with parameter $\\tau_R$.\n",
    "* Important parameter: $\\frac{\\tau}{\\tau_R}$. \n",
    "\n",
    "\n",
    "<img src=\"figures\\route.jpg\" width=400 height=400>"
   ]
  },
  {
   "cell_type": "markdown",
   "metadata": {
    "collapsed": true,
    "slideshow": {
     "slide_type": "slide"
    }
   },
   "source": [
    "##  Two Models\n",
    "\n",
    "1. Run only.\n",
    "    * Reorientations happen instantly.\n",
    "\n",
    "2. Run and Stop.\n",
    "    * Reorientations take a finite amount of time (Another $\\tau_S$)\n",
    "    \n",
    "Between reorientation events an individual an individual covers a random straight line that id distributed exponentially with parameter $c_{const} \\tau_R$\n",
    "\n",
    "<img src=\"figures/route.jpg\" width=400 height=400> "
   ]
  },
  {
   "cell_type": "markdown",
   "metadata": {
    "slideshow": {
     "slide_type": "slide"
    }
   },
   "source": [
    "# Orientation Change\n",
    "* The orientation changes are drawn from a Von Misses Distribution.\n",
    "* Close to normal distribution in a circle but does not require inifite sum.\n",
    "* Makes the trajectory a correlated random walk.\n",
    "* $\\kappa$ can be expressed in terms of the angular deviation $\\sigma_{\\delta}$ \n",
    "\n",
    "$$ f_\\Phi(\\phi, \\kappa) = \\frac{e^{\\kappa\\cos(\\phi)}}{2 \\pi I_0(\\kappa)} $$\n",
    "\n",
    "Where $ I_0 $ denotes the modified Bessel function. \n",
    "\n",
    "The Parameter $\\kappa$ controls the peakedness of it.\n",
    "\n",
    "<img src=\"figures/misses.png\" width=600 height=600>\n",
    "\n"
   ]
  },
  {
   "cell_type": "markdown",
   "metadata": {
    "slideshow": {
     "slide_type": "subslide"
    }
   },
   "source": [
    "# Details of Von Misses Distribution"
   ]
  },
  {
   "cell_type": "markdown",
   "metadata": {
    "slideshow": {
     "slide_type": "slide"
    }
   },
   "source": [
    "# Quantities of Interest\n",
    "* **RAS** Relative Apparent Speed\n",
    "* **AAC** Apparent Angle Change\n",
    "* Mean of the RAS: $\\overline{c}$\n",
    "* Standar deviation of RAS: $\\sigma_c$\n",
    "* Angular deviation of AAC $\\sigma_{\\theta}$"
   ]
  },
  {
   "cell_type": "markdown",
   "metadata": {
    "slideshow": {
     "slide_type": "subslide"
    }
   },
   "source": [
    "# Table of values\n",
    "<img src=\"figures/parameter.png\" width=600 height=600>"
   ]
  },
  {
   "cell_type": "markdown",
   "metadata": {
    "slideshow": {
     "slide_type": "slide"
    }
   },
   "source": [
    "# Diffusive Limit\n",
    "\n",
    "* The underlying angular deviation $\\sigma_{\\delta}$  increases from right to left. \n",
    "* The bigger the angular deviation the greater the reduction in means speed.\n",
    "* Two regimes.\n",
    "\n",
    "<img src=\"figures/figure2.png\" width=1000 height=1000>"
   ]
  },
  {
   "cell_type": "markdown",
   "metadata": {
    "slideshow": {
     "slide_type": "slide"
    }
   },
   "source": [
    "* The apparent angular deviation $\\sigma_{\\theta}$ has an asymptotic limit of $\\sqrt{2}$\n",
    "* The underlying angular deviation $\\sigma_{\\delta}$  increases from bottom to top.\n",
    "<img src=\"figures/figure3.png\" width=600 height=600>"
   ]
  },
  {
   "cell_type": "markdown",
   "metadata": {
    "slideshow": {
     "slide_type": "subslide"
    }
   },
   "source": [
    "# Table of values\n",
    "<img src=\"figures/parameter.png\" width=600 height=600>"
   ]
  },
  {
   "cell_type": "markdown",
   "metadata": {
    "slideshow": {
     "slide_type": "slide"
    }
   },
   "source": [
    "# Sampling Distributions (Run Only Model)\n",
    "* $ \\frac{\\tau}{\\tau_{R}}$ increases from bottom to top (1, 2, 5, 10).\n",
    "* The speeds are push down with respect to their truth value.\n",
    "* the y axis is not the same!\n",
    "* b underlying angular deviation is lower than c.\n",
    "\n",
    "<img src=\"figures/figure4.png\" width=1000 height=10\n",
    "00>"
   ]
  },
  {
   "cell_type": "markdown",
   "metadata": {
    "slideshow": {
     "slide_type": "slide"
    }
   },
   "source": [
    "<img src=\"figures/figure5.png\" width=600 height=600>"
   ]
  },
  {
   "cell_type": "markdown",
   "metadata": {
    "slideshow": {
     "slide_type": "subslide"
    }
   },
   "source": [
    "# Table of values\n",
    "<img src=\"figures/parameter.png\" width=600 height=600>"
   ]
  },
  {
   "cell_type": "markdown",
   "metadata": {
    "slideshow": {
     "slide_type": "slide"
    }
   },
   "source": [
    "# Sampling Distributions (Run and Stop Model)\n",
    "* b Takes less reorienting than a.\n",
    "* Black bars correspond to a higher angular deviation than white.\n",
    "* $ \\frac{\\tau}{\\tau_{R}}$ increases from bottom to top (1, 2, 5, 10).\n",
    "* The speeds are push down with respect to their truth value.\n",
    "* the y axis is not the same!\n",
    "* When you sample fast enough you see the stop / stationary events and you see lines running in perfect line.\n",
    "\n",
    "<img src=\"figures/figure6.png\" width=1200 height=1200>"
   ]
  },
  {
   "cell_type": "markdown",
   "metadata": {
    "slideshow": {
     "slide_type": "slide"
    }
   },
   "source": [
    "* Diffusive Regime kicks in faster.\n",
    "* Stationary times $\\tau_{s} $ increase from top to bottom.\n",
    "\n",
    "<img src=\"figures/figure7.png\" width=1200 height=1200>"
   ]
  },
  {
   "cell_type": "markdown",
   "metadata": {
    "slideshow": {
     "slide_type": "slide"
    }
   },
   "source": [
    "* $ \\frac{\\tau}{\\tau_{R}}$ increases from bottom to top (1, 2, 5, 10).\n",
    "* Stationary times $\\tau_{s} $ increase from top to bottom.\n",
    "<img src=\"figures/figure8.png\" width=1200 height=1200>"
   ]
  },
  {
   "cell_type": "markdown",
   "metadata": {
    "slideshow": {
     "slide_type": "slide"
    }
   },
   "source": [
    "# Analytic Study for High Frequency Sampling\n",
    "\n",
    "### Assumptions\n",
    "\n",
    "<img src=\"figures/assumptions.png\" width=500 height=500>"
   ]
  },
  {
   "cell_type": "markdown",
   "metadata": {
    "slideshow": {
     "slide_type": "slide"
    }
   },
   "source": [
    "<img src=\"figures/expression.png\" width=600 height=600>\n",
    "\n",
    "* Black bars far better sampling.\n",
    "* Zero stop events are removed.\n",
    "\n",
    "<img src=\"figures/figure10.png\" width=1500 height=1500>"
   ]
  },
  {
   "cell_type": "markdown",
   "metadata": {
    "slideshow": {
     "slide_type": "subslide"
    }
   },
   "source": [
    "# Line of Argumentation\n",
    "\n",
    "<img src=\"figures/derivation1.png\" width=500 height=500>\n"
   ]
  },
  {
   "cell_type": "markdown",
   "metadata": {
    "slideshow": {
     "slide_type": "subslide"
    }
   },
   "source": [
    "# Line of Argumentation\n",
    "\n",
    "The Jacobian transformation from one set of coordinates to the other\n",
    "\n",
    "<img src=\"figures/derivation2.png\" width=500 height=500>"
   ]
  },
  {
   "cell_type": "markdown",
   "metadata": {
    "slideshow": {
     "slide_type": "slide"
    }
   },
   "source": [
    "# KL Divergence\n",
    "\n",
    "* Jagged line: AAC.\n",
    "* Solid Line.\n",
    "\n",
    "<img src=\"figures/figure11.png\" width=600 height=600>"
   ]
  },
  {
   "cell_type": "markdown",
   "metadata": {
    "slideshow": {
     "slide_type": "slide"
    }
   },
   "source": [
    "# Author's Conclusions\n",
    "* Low frequency diffusive limits.\n",
    "* Intermediate levels studied by sampling.\n",
    "* High frequency has a closed model approximation."
   ]
  },
  {
   "cell_type": "markdown",
   "metadata": {
    "slideshow": {
     "slide_type": "slide"
    }
   },
   "source": [
    "# Possible Shortcomings\n",
    "* Two vs three dimensions.\n",
    "* Noise?\n",
    "* Constant Speed?"
   ]
  },
  {
   "cell_type": "code",
   "execution_count": null,
   "metadata": {
    "collapsed": true
   },
   "outputs": [],
   "source": []
  }
 ],
 "metadata": {
  "celltoolbar": "Slideshow",
  "kernelspec": {
   "display_name": "Python 3",
   "language": "python",
   "name": "python3"
  },
  "language_info": {
   "codemirror_mode": {
    "name": "ipython",
    "version": 3
   },
   "file_extension": ".py",
   "mimetype": "text/x-python",
   "name": "python",
   "nbconvert_exporter": "python",
   "pygments_lexer": "ipython3",
   "version": "3.5.0"
  }
 },
 "nbformat": 4,
 "nbformat_minor": 0
}
